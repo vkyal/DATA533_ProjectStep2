{
 "cells": [
  {
   "cell_type": "markdown",
   "id": "a9913cd3-b77c-4100-a5d7-3bb809dc3a56",
   "metadata": {},
   "source": [
    "#  Test suite"
   ]
  },
  {
   "cell_type": "code",
   "execution_count": 1,
   "id": "0f83f2d9-e5d7-4ef0-a60a-54285f2f5dbc",
   "metadata": {},
   "outputs": [
    {
     "name": "stderr",
     "output_type": "stream",
     "text": [
      "........\n",
      "----------------------------------------------------------------------\n",
      "Ran 8 tests in 0.004s\n",
      "\n",
      "OK\n"
     ]
    },
    {
     "name": "stdout",
     "output_type": "stream",
     "text": [
      "<unittest.runner.TextTestResult run=8 errors=0 failures=0>\n"
     ]
    }
   ],
   "source": [
    "import unittest\n",
    "\n",
    "from TestCustomerInteraction import TestCustomer\n",
    "from TestDatabase import TestDatabase\n",
    "from TestRestaurant import TestRestaurant\n",
    "from TestTable import TestTable\n",
    "\n",
    "def my_suite():\n",
    "    \n",
    "    suite = unittest.TestSuite()\n",
    "    result = unittest.TestResult()\n",
    "    \n",
    "    suite.addTest(unittest.makeSuite(TestCustomer))\n",
    "    suite.addTest(unittest.makeSuite(TestDatabase))\n",
    "    suite.addTest(unittest.makeSuite(TestRestaurant))\n",
    "    suite.addTest(unittest.makeSuite(TestTable))\n",
    "    \n",
    "    runner = unittest.TextTestRunner()\n",
    "    print(runner.run(suite))\n",
    "\n",
    "my_suite()"
   ]
  },
  {
   "cell_type": "code",
   "execution_count": null,
   "id": "778ba7eb-a280-433e-a13c-91ba6ade9f61",
   "metadata": {},
   "outputs": [],
   "source": []
  }
 ],
 "metadata": {
  "kernelspec": {
   "display_name": "Python 3",
   "language": "python",
   "name": "python3"
  },
  "language_info": {
   "codemirror_mode": {
    "name": "ipython",
    "version": 3
   },
   "file_extension": ".py",
   "mimetype": "text/x-python",
   "name": "python",
   "nbconvert_exporter": "python",
   "pygments_lexer": "ipython3",
   "version": "3.9.12"
  }
 },
 "nbformat": 4,
 "nbformat_minor": 5
}
